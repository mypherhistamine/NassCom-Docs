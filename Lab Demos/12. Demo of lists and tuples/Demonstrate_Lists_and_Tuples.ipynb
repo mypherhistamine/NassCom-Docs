{
  "nbformat": 4,
  "nbformat_minor": 0,
  "metadata": {
    "colab": {
      "name": "Untitled14.ipynb",
      "provenance": []
    },
    "kernelspec": {
      "name": "python3",
      "display_name": "Python 3"
    }
  },
  "cells": [
    {
      "cell_type": "code",
      "metadata": {
        "id": "IQV-A7l1WwwQ",
        "colab_type": "code",
        "colab": {}
      },
      "source": [
        "mytuple = (1,2,3,4)"
      ],
      "execution_count": 1,
      "outputs": []
    },
    {
      "cell_type": "code",
      "metadata": {
        "id": "C88k9RkeW0LD",
        "colab_type": "code",
        "colab": {
          "base_uri": "https://localhost:8080/",
          "height": 51
        },
        "outputId": "ebde1fff-20da-4a19-8771-e4d5043e34ab"
      },
      "source": [
        "print(mytuple.count(6))\n",
        "print(mytuple.count(2))"
      ],
      "execution_count": 4,
      "outputs": [
        {
          "output_type": "stream",
          "text": [
            "0\n",
            "1\n"
          ],
          "name": "stdout"
        }
      ]
    },
    {
      "cell_type": "code",
      "metadata": {
        "id": "P_77LxRSW8fA",
        "colab_type": "code",
        "colab": {
          "base_uri": "https://localhost:8080/",
          "height": 34
        },
        "outputId": "e5737b59-f891-443e-d53e-5a559e8303ec"
      },
      "source": [
        "mytuple.index(2)"
      ],
      "execution_count": 5,
      "outputs": [
        {
          "output_type": "execute_result",
          "data": {
            "text/plain": [
              "1"
            ]
          },
          "metadata": {
            "tags": []
          },
          "execution_count": 5
        }
      ]
    },
    {
      "cell_type": "code",
      "metadata": {
        "id": "8dVXl-yvXiX5",
        "colab_type": "code",
        "colab": {
          "base_uri": "https://localhost:8080/",
          "height": 164
        },
        "outputId": "74d0663b-46b3-49c5-fce7-4e77a0bb0e8c"
      },
      "source": [
        "mytuple.index(7)"
      ],
      "execution_count": 6,
      "outputs": [
        {
          "output_type": "error",
          "ename": "ValueError",
          "evalue": "ignored",
          "traceback": [
            "\u001b[0;31m---------------------------------------------------------------------------\u001b[0m",
            "\u001b[0;31mValueError\u001b[0m                                Traceback (most recent call last)",
            "\u001b[0;32m<ipython-input-6-78b93bfb282c>\u001b[0m in \u001b[0;36m<module>\u001b[0;34m()\u001b[0m\n\u001b[0;32m----> 1\u001b[0;31m \u001b[0mmytuple\u001b[0m\u001b[0;34m.\u001b[0m\u001b[0mindex\u001b[0m\u001b[0;34m(\u001b[0m\u001b[0;36m7\u001b[0m\u001b[0;34m)\u001b[0m\u001b[0;34m\u001b[0m\u001b[0;34m\u001b[0m\u001b[0m\n\u001b[0m",
            "\u001b[0;31mValueError\u001b[0m: tuple.index(x): x not in tuple"
          ]
        }
      ]
    },
    {
      "cell_type": "code",
      "metadata": {
        "id": "EEhTwjr8Xl44",
        "colab_type": "code",
        "colab": {}
      },
      "source": [
        "myset = {1,2,3,4,5}"
      ],
      "execution_count": 7,
      "outputs": []
    },
    {
      "cell_type": "markdown",
      "metadata": {
        "id": "wEJTQcJ7YFIf",
        "colab_type": "text"
      },
      "source": [
        "#### Add an element to the cell"
      ]
    },
    {
      "cell_type": "code",
      "metadata": {
        "id": "NSf0esRfX5wy",
        "colab_type": "code",
        "colab": {
          "base_uri": "https://localhost:8080/",
          "height": 34
        },
        "outputId": "220e73a8-9b11-4784-8b19-e6c9ed916c18"
      },
      "source": [
        "myset.add(6)\n",
        "print(myset)"
      ],
      "execution_count": 9,
      "outputs": [
        {
          "output_type": "stream",
          "text": [
            "{1, 2, 3, 4, 5, 6}\n"
          ],
          "name": "stdout"
        }
      ]
    },
    {
      "cell_type": "markdown",
      "metadata": {
        "id": "0qfESeyAYml_",
        "colab_type": "text"
      },
      "source": [
        "#### Update method on set is similar to the extend method in list. The difference is that if there are duplicate elements, one one occurence is added to the original set."
      ]
    },
    {
      "cell_type": "code",
      "metadata": {
        "id": "LGONIEdcYDB5",
        "colab_type": "code",
        "colab": {
          "base_uri": "https://localhost:8080/",
          "height": 34
        },
        "outputId": "053c9fcd-79e6-4752-a2fd-9ce4d3f0dcd2"
      },
      "source": [
        "myset2 = {4,5,6,7,8}\n",
        "myset.update(myset2)\n",
        "myset"
      ],
      "execution_count": 10,
      "outputs": [
        {
          "output_type": "execute_result",
          "data": {
            "text/plain": [
              "{1, 2, 3, 4, 5, 6, 7, 8}"
            ]
          },
          "metadata": {
            "tags": []
          },
          "execution_count": 10
        }
      ]
    },
    {
      "cell_type": "code",
      "metadata": {
        "id": "Y8KB6cvCYjQL",
        "colab_type": "code",
        "colab": {
          "base_uri": "https://localhost:8080/",
          "height": 34
        },
        "outputId": "0b089d57-6e68-4685-e8bd-06efdb1587df"
      },
      "source": [
        "mylist = {1,2,9,10}\n",
        "myset.update(mylist)\n",
        "myset"
      ],
      "execution_count": 11,
      "outputs": [
        {
          "output_type": "execute_result",
          "data": {
            "text/plain": [
              "{1, 2, 3, 4, 5, 6, 7, 8, 9, 10}"
            ]
          },
          "metadata": {
            "tags": []
          },
          "execution_count": 11
        }
      ]
    },
    {
      "cell_type": "code",
      "metadata": {
        "id": "ZmTBrLMlG2Ig",
        "colab_type": "code",
        "colab": {
          "base_uri": "https://localhost:8080/",
          "height": 85
        },
        "outputId": "a6a9b54a-936b-4a6a-89b9-d814c83454a9"
      },
      "source": [
        "setA = {1,2,3,4,5,6,7,8,9,10}\n",
        "setB = {2,4,6,8,10,12,14}\n",
        "\n",
        "print(\"setA union setB\",setA.union(setB))\n",
        "print(\"setA intersection setB\",setA.intersection(setB))\n",
        "print(\"setA difference setB\",setA.difference(setB))\n",
        "\n",
        "\n",
        "setC = {2,3,5,7}\n",
        "\n",
        "print(\"Is setC a subset of setA? \",setC.issubset(setA))\n"
      ],
      "execution_count": 27,
      "outputs": [
        {
          "output_type": "stream",
          "text": [
            "setA union setB {1, 2, 3, 4, 5, 6, 7, 8, 9, 10, 12, 14}\n",
            "setA intersection setB {2, 4, 6, 8, 10}\n",
            "setA difference setB {1, 3, 5, 7, 9}\n",
            "Is setC a subset of setA?  True\n"
          ],
          "name": "stdout"
        }
      ]
    },
    {
      "cell_type": "code",
      "metadata": {
        "id": "yQYjgQzqYwAk",
        "colab_type": "code",
        "colab": {}
      },
      "source": [
        "\n",
        "mydict = {1:\"one\",2:\"two\",3:\"three\"}"
      ],
      "execution_count": 12,
      "outputs": []
    },
    {
      "cell_type": "code",
      "metadata": {
        "id": "op7xMGhK_-wu",
        "colab_type": "code",
        "colab": {
          "base_uri": "https://localhost:8080/",
          "height": 68
        },
        "outputId": "793d1675-17e5-4eb4-b191-50dcf6a1a776"
      },
      "source": [
        "for key in mydict.keys():\n",
        "  print(key,\" - \",mydict[key])"
      ],
      "execution_count": 19,
      "outputs": [
        {
          "output_type": "stream",
          "text": [
            "1  -  one\n",
            "2  -  two\n",
            "3  -  three\n"
          ],
          "name": "stdout"
        }
      ]
    },
    {
      "cell_type": "code",
      "metadata": {
        "id": "ZyTufx6aAKgq",
        "colab_type": "code",
        "colab": {
          "base_uri": "https://localhost:8080/",
          "height": 68
        },
        "outputId": "cf909265-fa25-4862-f3c4-47a5480a342d"
      },
      "source": [
        "for item in mydict.items():\n",
        "  print(item)"
      ],
      "execution_count": 20,
      "outputs": [
        {
          "output_type": "stream",
          "text": [
            "(1, 'one')\n",
            "(2, 'two')\n",
            "(3, 'three')\n"
          ],
          "name": "stdout"
        }
      ]
    },
    {
      "cell_type": "code",
      "metadata": {
        "id": "3O8MnFoOb_Ft",
        "colab_type": "code",
        "colab": {
          "base_uri": "https://localhost:8080/",
          "height": 51
        },
        "outputId": "107811de-199e-4d3c-acee-7015408dbcc7"
      },
      "source": [
        "mylist1 = [1,2,3,4,5,6]\n",
        "\n",
        "#Creates a dictionary mapping the keys in the collection onto None\n",
        "print(mydict.fromkeys(mylist1))\n",
        "\n",
        "#Creates a dictionary mapping the keys on the the value passed as second parameter\n",
        "print(mydict.fromkeys(mylist1,0))"
      ],
      "execution_count": 16,
      "outputs": [
        {
          "output_type": "stream",
          "text": [
            "{1: None, 2: None, 3: None, 4: None, 5: None, 6: None}\n",
            "{1: 0, 2: 0, 3: 0, 4: 0, 5: 0, 6: 0}\n"
          ],
          "name": "stdout"
        }
      ]
    },
    {
      "cell_type": "code",
      "metadata": {
        "id": "xlUGfeyFd0v-",
        "colab_type": "code",
        "colab": {}
      },
      "source": [
        "mydict2 = mydict.copy()"
      ],
      "execution_count": 21,
      "outputs": []
    },
    {
      "cell_type": "code",
      "metadata": {
        "id": "0OKnb_1tDjUg",
        "colab_type": "code",
        "colab": {}
      },
      "source": [
        "mydict2[\"newkey\"] = \"newvalue\""
      ],
      "execution_count": 22,
      "outputs": []
    },
    {
      "cell_type": "code",
      "metadata": {
        "id": "Fs4CY8LjDqAQ",
        "colab_type": "code",
        "colab": {
          "base_uri": "https://localhost:8080/",
          "height": 51
        },
        "outputId": "2675355b-036c-429f-94c7-0ed410a002c9"
      },
      "source": [
        "print(\"mydict \",mydict)\n",
        "print(\"mydict2 \",mydict2)"
      ],
      "execution_count": 23,
      "outputs": [
        {
          "output_type": "stream",
          "text": [
            "mydict  {1: 'one', 2: 'two', 3: 'three'}\n",
            "mydict2  {1: 'one', 2: 'two', 3: 'three', 'newkey': 'newvalue'}\n"
          ],
          "name": "stdout"
        }
      ]
    },
    {
      "cell_type": "code",
      "metadata": {
        "id": "xh8INV-IEDoy",
        "colab_type": "code",
        "colab": {}
      },
      "source": [
        ""
      ],
      "execution_count": null,
      "outputs": []
    }
  ]
}