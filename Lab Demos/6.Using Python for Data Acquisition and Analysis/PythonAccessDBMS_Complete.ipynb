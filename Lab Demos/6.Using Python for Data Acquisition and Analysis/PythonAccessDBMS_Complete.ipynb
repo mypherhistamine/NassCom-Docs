{
 "cells": [
  {
   "cell_type": "markdown",
   "metadata": {},
   "source": [
    "## The intent of this exercise is to show you the Big Data Pipeline\n",
    "\n",
    "We are going to obtain data from resources on the web, clean the data, visualize the data and then store the data in CSV format which can then be loaded on cloud or a database.\n",
    "\n",
    "Our intent to obtain the information on current GDP of countries and the population statistics of the countries. These details are available from www.worldometers.info. But they are available as two different set of information. We are going to access the data from the two sets, clean them and put them together. \n",
    "\n",
    "#### Install required packages"
   ]
  },
  {
   "cell_type": "code",
   "execution_count": 1,
   "metadata": {},
   "outputs": [
    {
     "name": "stdout",
     "output_type": "stream",
     "text": [
      "Requirement already satisfied: requests in c:\\users\\mvelj\\anaconda3\\lib\\site-packages (2.24.0)\n",
      "Requirement already satisfied: urllib3!=1.25.0,!=1.25.1,<1.26,>=1.21.1 in c:\\users\\mvelj\\anaconda3\\lib\\site-packages (from requests) (1.25.9)\n",
      "Requirement already satisfied: idna<3,>=2.5 in c:\\users\\mvelj\\anaconda3\\lib\\site-packages (from requests) (2.10)\n",
      "Requirement already satisfied: chardet<4,>=3.0.2 in c:\\users\\mvelj\\anaconda3\\lib\\site-packages (from requests) (3.0.4)\n",
      "Requirement already satisfied: certifi>=2017.4.17 in c:\\users\\mvelj\\anaconda3\\lib\\site-packages (from requests) (2020.6.20)\n",
      "Requirement already satisfied: beautifulsoup4 in c:\\users\\mvelj\\anaconda3\\lib\\site-packages (4.9.1)\n",
      "Requirement already satisfied: soupsieve>1.2 in c:\\users\\mvelj\\anaconda3\\lib\\site-packages (from beautifulsoup4) (2.0.1)\n"
     ]
    }
   ],
   "source": [
    "!pip install requests\n",
    "!pip install beautifulsoup4"
   ]
  },
  {
   "cell_type": "markdown",
   "metadata": {},
   "source": [
    "#### Import the packages required for this exercise"
   ]
  },
  {
   "cell_type": "code",
   "execution_count": 2,
   "metadata": {},
   "outputs": [],
   "source": [
    "import pandas as pd\n",
    "from IPython.core.display import HTML\n",
    "import requests\n",
    "from bs4 import BeautifulSoup\n",
    "import bs4\n",
    "import json\n",
    "from datetime import date"
   ]
  },
  {
   "cell_type": "markdown",
   "metadata": {},
   "source": [
    "#### From the remote URL https://www.worldometers.info/gdp/gdp-per-capita/ read the GDP data we require. requests.get(URL) gets the entire content of a remote URL as a string. Visit the URL on your browser to familiarise the data. "
   ]
  },
  {
   "cell_type": "code",
   "execution_count": 3,
   "metadata": {},
   "outputs": [],
   "source": [
    "\n",
    "URL=\"https://www.worldometers.info/gdp/gdp-per-capita/\"\n",
    "page = requests.get(URL)\n",
    "soup = BeautifulSoup(page.content, 'html.parser')\n",
    "stats_tbl = soup.find(\"table\")\n"
   ]
  },
  {
   "cell_type": "markdown",
   "metadata": {},
   "source": [
    "#### Parse the string data to only extract the information we require"
   ]
  },
  {
   "cell_type": "code",
   "execution_count": 4,
   "metadata": {},
   "outputs": [],
   "source": [
    "\n",
    "def parse_table(tbl,cols):\n",
    "    rows = []\n",
    "    trows = tbl.find_all(\"tr\")\n",
    "    for tr in trows[1:]:\n",
    "        row = []\n",
    "        for td in tr.children:\n",
    "            if isinstance(td,bs4.element.Tag):\n",
    "                for data in td.children:\n",
    "                    if isinstance(data,bs4.element.Tag):\n",
    "                        for innerHTML in data.children:\n",
    "                            row.append(innerHTML)\n",
    "                    else:\n",
    "                        row.append(data)\n",
    "        rows.append(row)\n",
    "    \n",
    "    return pd.DataFrame(rows,columns=cols)\n",
    "\n",
    "df = parse_table(stats_tbl,[\"Ranking\",\"Country\",\"GDP (PPP) per capita\",\"GDP (nominal) per capita\",\"vs. World PPP GDP per capita\"])\n"
   ]
  },
  {
   "cell_type": "markdown",
   "metadata": {},
   "source": [
    "#### Print the head of the dataframe object to see what the data collected looks like"
   ]
  },
  {
   "cell_type": "code",
   "execution_count": 5,
   "metadata": {},
   "outputs": [
    {
     "data": {
      "text/html": [
       "<div>\n",
       "<style scoped>\n",
       "    .dataframe tbody tr th:only-of-type {\n",
       "        vertical-align: middle;\n",
       "    }\n",
       "\n",
       "    .dataframe tbody tr th {\n",
       "        vertical-align: top;\n",
       "    }\n",
       "\n",
       "    .dataframe thead th {\n",
       "        text-align: right;\n",
       "    }\n",
       "</style>\n",
       "<table border=\"1\" class=\"dataframe\">\n",
       "  <thead>\n",
       "    <tr style=\"text-align: right;\">\n",
       "      <th></th>\n",
       "      <th>Ranking</th>\n",
       "      <th>Country</th>\n",
       "      <th>GDP (PPP) per capita</th>\n",
       "      <th>GDP (nominal) per capita</th>\n",
       "      <th>vs. World PPP GDP per capita</th>\n",
       "    </tr>\n",
       "  </thead>\n",
       "  <tbody>\n",
       "    <tr>\n",
       "      <th>0</th>\n",
       "      <td>1</td>\n",
       "      <td>Qatar</td>\n",
       "      <td>$128,647</td>\n",
       "      <td>$61,264</td>\n",
       "      <td>752%</td>\n",
       "    </tr>\n",
       "    <tr>\n",
       "      <th>1</th>\n",
       "      <td>2</td>\n",
       "      <td>Macao</td>\n",
       "      <td>$115,367</td>\n",
       "      <td>$80,890</td>\n",
       "      <td>675%</td>\n",
       "    </tr>\n",
       "    <tr>\n",
       "      <th>2</th>\n",
       "      <td>3</td>\n",
       "      <td>Luxembourg</td>\n",
       "      <td>$107,641</td>\n",
       "      <td>$105,280</td>\n",
       "      <td>629%</td>\n",
       "    </tr>\n",
       "    <tr>\n",
       "      <th>3</th>\n",
       "      <td>4</td>\n",
       "      <td>Singapore</td>\n",
       "      <td>$94,105</td>\n",
       "      <td>$56,746</td>\n",
       "      <td>550%</td>\n",
       "    </tr>\n",
       "    <tr>\n",
       "      <th>4</th>\n",
       "      <td>5</td>\n",
       "      <td>Brunei</td>\n",
       "      <td>$79,003</td>\n",
       "      <td>$28,572</td>\n",
       "      <td>462%</td>\n",
       "    </tr>\n",
       "  </tbody>\n",
       "</table>\n",
       "</div>"
      ],
      "text/plain": [
       "  Ranking     Country GDP (PPP) per capita GDP (nominal) per capita  \\\n",
       "0       1       Qatar            $128,647                   $61,264   \n",
       "1       2       Macao            $115,367                   $80,890   \n",
       "2       3  Luxembourg            $107,641                  $105,280   \n",
       "3       4   Singapore             $94,105                   $56,746   \n",
       "4       5     Brunei              $79,003                   $28,572   \n",
       "\n",
       "  vs. World PPP GDP per capita  \n",
       "0                        752%   \n",
       "1                        675%   \n",
       "2                        629%   \n",
       "3                        550%   \n",
       "4                        462%   "
      ]
     },
     "execution_count": 5,
     "metadata": {},
     "output_type": "execute_result"
    }
   ],
   "source": [
    "df.head()"
   ]
  },
  {
   "cell_type": "markdown",
   "metadata": {},
   "source": [
    "#### Clean and Process the data to suit our purpose"
   ]
  },
  {
   "cell_type": "code",
   "execution_count": 6,
   "metadata": {},
   "outputs": [],
   "source": [
    "# The data is present with $ sign and ,. This needs to be converted to numeric data\n",
    "df['GDP (PPP) per capita'] = df['GDP (PPP) per capita'].str.replace(\"$\",\"\")\n",
    "df['GDP (PPP) per capita'] = df['GDP (PPP) per capita'].str.replace(\",\",\"\")\n",
    "df['GDP (PPP) per capita'] = df['GDP (PPP) per capita'].str.replace(\"N.A.\",\"0\")\n",
    "df['GDP (PPP) per capita'] = df['GDP (PPP) per capita'].astype(int)\n",
    "\n",
    "\n",
    "\n"
   ]
  },
  {
   "cell_type": "code",
   "execution_count": 7,
   "metadata": {},
   "outputs": [],
   "source": [
    "df['GDP (nominal) per capita'] = df['GDP (nominal) per capita'].str.replace(\"$\",\"\")\n",
    "df['GDP (nominal) per capita'] = df['GDP (nominal) per capita'].str.replace(\",\",\"\")\n",
    "df['GDP (nominal) per capita'] = df['GDP (nominal) per capita'].str.replace(\"N.A.\",\"0\")\n",
    "df['GDP (nominal) per capita'] = df['GDP (nominal) per capita'].astype(int)\n",
    "\n"
   ]
  },
  {
   "cell_type": "markdown",
   "metadata": {},
   "source": [
    "#### Visualize the data"
   ]
  },
  {
   "cell_type": "code",
   "execution_count": null,
   "metadata": {},
   "outputs": [],
   "source": [
    "import matplotlib.pyplot as plt\n",
    "import seaborn as sns\n",
    "\n",
    "gdps = df['GDP (PPP) per capita'][0:20]\n",
    "countries = df['Country'][0:20]\n",
    "\n",
    "plt.figure(figsize=(10,5))\n",
    "plot = sns.barplot(countries, gdps)\n",
    "\n",
    "plot.set_xticklabels(countries, rotation=90)\n",
    "\n",
    "plt.show()"
   ]
  },
  {
   "cell_type": "markdown",
   "metadata": {},
   "source": [
    "#### Obtain the information on population. Just as we did earlier, we obtain the information from http://worldometers.info/world-population. Feel free to visit the URL and familiarise yourself with the data."
   ]
  },
  {
   "cell_type": "code",
   "execution_count": null,
   "metadata": {},
   "outputs": [],
   "source": [
    "URL=\"http://worldometers.info/world-population\"\n",
    "page = requests.get(URL)\n",
    "soup = BeautifulSoup(page.content, 'html.parser')\n",
    "stats_tbl = soup.find(id=\"popbycountry\")\n"
   ]
  },
  {
   "cell_type": "markdown",
   "metadata": {},
   "source": [
    "#### Parse the data and generate a dataframe from the data available in the link"
   ]
  },
  {
   "cell_type": "code",
   "execution_count": null,
   "metadata": {},
   "outputs": [],
   "source": [
    "df2 = parse_table(stats_tbl,[\"Pop Rank\",\"Country\",\"Population 2020\",\"Yearly Change\",\"Net Change\", \"People per KMSq\",\"Land Area\",\"Migrants\",\"Fertility Rate\",\"Median Age\",\"Urban Population\",\"World Share\"])\n"
   ]
  },
  {
   "cell_type": "markdown",
   "metadata": {},
   "source": [
    "#### See the newly created dataframe"
   ]
  },
  {
   "cell_type": "code",
   "execution_count": null,
   "metadata": {},
   "outputs": [],
   "source": [
    "df2.head(10)"
   ]
  },
  {
   "cell_type": "markdown",
   "metadata": {},
   "source": [
    "#### Clean and process the data in desired format"
   ]
  },
  {
   "cell_type": "code",
   "execution_count": null,
   "metadata": {},
   "outputs": [],
   "source": [
    "df2['Population 2020'] = df2['Population 2020'].str.replace(\",\",\"\")\n",
    "df2['Population 2020'] = df2['Population 2020'].astype(int)\n",
    "\n",
    "df2['Net Change'] = df2['Net Change'].str.replace(\",\",\"\")\n",
    "df2['Net Change'] = df2['Net Change'].astype(int)\n",
    "\n",
    "\n",
    "df2['Land Area'] = df2['Land Area'].str.replace(\",\",\"\")\n",
    "df2['Land Area'] = df2['Land Area'].astype(int)\n",
    "\n",
    "df2['Migrants'] = df2['Migrants'].str.replace(\",\",\"\")\n",
    "df2['Migrants'] = df2['Migrants'].replace(\" \", \"0\")\n",
    "df2['Migrants'] = df2['Migrants'].astype(int)\n",
    "\n",
    "df2['Median Age'] = df2['Median Age'].replace(\"N.A.\", \"0\")\n",
    "\n",
    "df2['Median Age'] = df2['Median Age'].astype(int)\n",
    "\n",
    "df2['Pop Rank'] = df2['Pop Rank'].astype(int)\n"
   ]
  },
  {
   "cell_type": "markdown",
   "metadata": {},
   "source": [
    "#### Merge the two dataframes based on the column which has the same value - \"Country\""
   ]
  },
  {
   "cell_type": "code",
   "execution_count": null,
   "metadata": {},
   "outputs": [],
   "source": [
    "df_new = df.merge(df2,on=\"Country\")"
   ]
  },
  {
   "cell_type": "markdown",
   "metadata": {},
   "source": [
    "#### Check the data that is present in the newly formed dataframe, which has merged the GDP data and the population data"
   ]
  },
  {
   "cell_type": "code",
   "execution_count": null,
   "metadata": {},
   "outputs": [],
   "source": [
    "df_new.head(2).transpose()"
   ]
  },
  {
   "cell_type": "markdown",
   "metadata": {},
   "source": [
    "#### Visualize the GDP data just as before, but this time in the order of population ranking. "
   ]
  },
  {
   "cell_type": "code",
   "execution_count": null,
   "metadata": {},
   "outputs": [],
   "source": [
    "df_temp = df_new.sort_values([\"Pop Rank\"], axis=0, \n",
    "                 ascending=True) \n",
    "gdps = df_temp['GDP (PPP) per capita'][0:20]\n",
    "countries = df_temp['Country'][0:20]\n",
    "\n",
    "plt.figure(figsize=(10,5))\n",
    "plot = sns.barplot(countries, gdps)\n",
    "\n",
    "plot.set_xticklabels(countries, rotation=90)\n",
    "\n",
    "plt.show()"
   ]
  },
  {
   "cell_type": "markdown",
   "metadata": {},
   "source": [
    "#### Save the data to a CSV file with today's timestamp. "
   ]
  },
  {
   "cell_type": "code",
   "execution_count": null,
   "metadata": {},
   "outputs": [],
   "source": [
    "timestamp = date.today().strftime(\"%d_%m_%Y\")\n",
    "df_new.to_csv(\"Details\"+timestamp+\".csv\")"
   ]
  }
 ],
 "metadata": {
  "kernelspec": {
   "display_name": "Python 3",
   "language": "python",
   "name": "python3"
  },
  "language_info": {
   "codemirror_mode": {
    "name": "ipython",
    "version": 3
   },
   "file_extension": ".py",
   "mimetype": "text/x-python",
   "name": "python",
   "nbconvert_exporter": "python",
   "pygments_lexer": "ipython3",
   "version": "3.8.3"
  }
 },
 "nbformat": 4,
 "nbformat_minor": 2
}
