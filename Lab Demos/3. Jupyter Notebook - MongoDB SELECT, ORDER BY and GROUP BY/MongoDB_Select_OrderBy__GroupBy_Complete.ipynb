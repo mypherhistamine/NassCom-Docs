{
 "cells": [
  {
   "cell_type": "code",
   "execution_count": 2,
   "metadata": {},
   "outputs": [],
   "source": [
    "import pymongo\n",
    "from pymongo import MongoClient\n",
    "client = MongoClient('mongodb://localhost:27017/')"
   ]
  },
  {
   "cell_type": "code",
   "execution_count": 3,
   "metadata": {},
   "outputs": [],
   "source": [
    "#This will create a Collection/Database called books if it doesn't already exist\n",
    "db = client['books']"
   ]
  },
  {
   "cell_type": "code",
   "execution_count": 4,
   "metadata": {},
   "outputs": [],
   "source": [
    "books = db.books"
   ]
  },
  {
   "cell_type": "code",
   "execution_count": 5,
   "metadata": {},
   "outputs": [
    {
     "data": {
      "text/plain": [
       "<pymongo.results.InsertManyResult at 0x29f8b6da440>"
      ]
     },
     "execution_count": 5,
     "metadata": {},
     "output_type": "execute_result"
    }
   ],
   "source": [
    "db.books.insert_many([{\"book\": \"The Ranch\", \"author\": \"Danielle Steel\"},\n",
    "                                 {\"book\": \"The Firm\", \"author\": \"John Grisham\"},\n",
    "                                 {\"book\": \"The runaway jury\", \"author\": \"John Grisham\"},\n",
    "                                 {\"book\": \"Time to kill\", \"author\": \"John Grisham\"},\n",
    "                                 {\"book\": \"The testament\", \"author\": \"John Grisham\"},\n",
    "                                 {\"book\": \"Tell me your Dreams\", \"author\": \"Sidney Sheldon\"}\n",
    "                              ])\n"
   ]
  },
  {
   "cell_type": "code",
   "execution_count": 6,
   "metadata": {},
   "outputs": [
    {
     "name": "stdout",
     "output_type": "stream",
     "text": [
      "{'_id': ObjectId('5f58529c679c8a7428626473'), 'author': 'Sidney Sheldon', 'about': 'Tell Me Your Dreams', 'tags': ['MPD', 'Murder', 'Mystery']}\n",
      "{'_id': ObjectId('5f5924403e1afef800441c13'), 'author': 'Sidney Sheldon', 'about': 'Tell Me Your Dreams', 'tags': ['MPD', 'Murder', 'Mystery']}\n",
      "{'_id': ObjectId('5f5a6c9286301665bea9c824'), 'book': 'The Ranch', 'author': 'Danielle Steel'}\n",
      "{'_id': ObjectId('5f5a6c9286301665bea9c825'), 'book': 'The Firm', 'author': 'John Grisham'}\n",
      "{'_id': ObjectId('5f5a6c9286301665bea9c826'), 'book': 'The runaway jury', 'author': 'John Grisham'}\n",
      "{'_id': ObjectId('5f5a6c9286301665bea9c827'), 'book': 'Time to kill', 'author': 'John Grisham'}\n",
      "{'_id': ObjectId('5f5a6c9286301665bea9c828'), 'book': 'The testament', 'author': 'John Grisham'}\n",
      "{'_id': ObjectId('5f5a6c9286301665bea9c829'), 'book': 'Tell me your Dreams', 'author': 'Sidney Sheldon'}\n"
     ]
    }
   ],
   "source": [
    "for book in books.find():\n",
    "  print(book)"
   ]
  },
  {
   "cell_type": "code",
   "execution_count": 17,
   "metadata": {},
   "outputs": [
    {
     "data": {
      "text/plain": [
       "{'_id': ObjectId('5f5a6c9286301665bea9c824'),\n",
       " 'book': 'The Ranch',\n",
       " 'author': 'Danielle Steel'}"
      ]
     },
     "execution_count": 17,
     "metadata": {},
     "output_type": "execute_result"
    }
   ],
   "source": [
    "books.find_one({'author':\"Danielle Steel\"})\n"
   ]
  },
  {
   "cell_type": "code",
   "execution_count": 16,
   "metadata": {},
   "outputs": [
    {
     "name": "stdout",
     "output_type": "stream",
     "text": [
      "{'_id': ObjectId('5f58529c679c8a7428626473'), 'author': 'Sidney Sheldon', 'about': 'Tell Me Your Dreams', 'tags': ['MPD', 'Murder', 'Mystery']}\n",
      "{'_id': ObjectId('5f5924403e1afef800441c13'), 'author': 'Sidney Sheldon', 'about': 'Tell Me Your Dreams', 'tags': ['MPD', 'Murder', 'Mystery']}\n",
      "{'_id': ObjectId('5f5a6c9286301665bea9c829'), 'book': 'Tell me your Dreams', 'author': 'Sidney Sheldon'}\n"
     ]
    }
   ],
   "source": [
    "for book in books.find({'author':\"Sidney Sheldon\"}):\n",
    "    print(book)\n"
   ]
  },
  {
   "cell_type": "code",
   "execution_count": 11,
   "metadata": {},
   "outputs": [
    {
     "name": "stdout",
     "output_type": "stream",
     "text": [
      "The Firm\n",
      "The runaway jury\n",
      "Time to kill\n",
      "The testament\n"
     ]
    }
   ],
   "source": [
    "for book in books.find({'author':\"John Grisham\"}):\n",
    "    print(book['book'])\n"
   ]
  },
  {
   "cell_type": "code",
   "execution_count": 12,
   "metadata": {},
   "outputs": [
    {
     "name": "stdout",
     "output_type": "stream",
     "text": [
      "{'_id': ObjectId('5f5a6c9286301665bea9c824'), 'book': 'The Ranch', 'author': 'Danielle Steel'}\n",
      "{'_id': ObjectId('5f5a6c9286301665bea9c825'), 'book': 'The Firm', 'author': 'John Grisham'}\n",
      "{'_id': ObjectId('5f5a6c9286301665bea9c826'), 'book': 'The runaway jury', 'author': 'John Grisham'}\n",
      "{'_id': ObjectId('5f5a6c9286301665bea9c827'), 'book': 'Time to kill', 'author': 'John Grisham'}\n",
      "{'_id': ObjectId('5f5a6c9286301665bea9c828'), 'book': 'The testament', 'author': 'John Grisham'}\n",
      "{'_id': ObjectId('5f58529c679c8a7428626473'), 'author': 'Sidney Sheldon', 'about': 'Tell Me Your Dreams', 'tags': ['MPD', 'Murder', 'Mystery']}\n",
      "{'_id': ObjectId('5f5924403e1afef800441c13'), 'author': 'Sidney Sheldon', 'about': 'Tell Me Your Dreams', 'tags': ['MPD', 'Murder', 'Mystery']}\n",
      "{'_id': ObjectId('5f5a6c9286301665bea9c829'), 'book': 'Tell me your Dreams', 'author': 'Sidney Sheldon'}\n"
     ]
    }
   ],
   "source": [
    "\n",
    "for book in books.find().sort([(\"author\", pymongo.ASCENDING)]):\n",
    "  print(book)"
   ]
  },
  {
   "cell_type": "code",
   "execution_count": 13,
   "metadata": {},
   "outputs": [],
   "source": [
    "pipeline = [\n",
    "     {\"$group\": {\"_id\": \"$author\", \"count\": {\"$sum\": 1}}}]\n",
    "\n",
    "grp_books = db.books.aggregate(pipeline)\n"
   ]
  },
  {
   "cell_type": "code",
   "execution_count": 14,
   "metadata": {},
   "outputs": [
    {
     "name": "stdout",
     "output_type": "stream",
     "text": [
      "{'_id': 'Sidney Sheldon', 'count': 3}\n",
      "{'_id': 'Danielle Steel', 'count': 1}\n",
      "{'_id': 'John Grisham', 'count': 4}\n"
     ]
    }
   ],
   "source": [
    "for book in grp_books:\n",
    "  print(book)"
   ]
  },
  {
   "cell_type": "code",
   "execution_count": null,
   "metadata": {},
   "outputs": [],
   "source": []
  }
 ],
 "metadata": {
  "kernelspec": {
   "display_name": "Python 3",
   "language": "python",
   "name": "python3"
  },
  "language_info": {
   "codemirror_mode": {
    "name": "ipython",
    "version": 3
   },
   "file_extension": ".py",
   "mimetype": "text/x-python",
   "name": "python",
   "nbconvert_exporter": "python",
   "pygments_lexer": "ipython3",
   "version": "3.8.3"
  }
 },
 "nbformat": 4,
 "nbformat_minor": 4
}
