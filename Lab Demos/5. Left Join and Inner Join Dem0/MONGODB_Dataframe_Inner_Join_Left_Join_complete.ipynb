{
 "cells": [
  {
   "cell_type": "code",
   "execution_count": 18,
   "metadata": {},
   "outputs": [],
   "source": [
    "import pymongo\n",
    "from pymongo import MongoClient\n",
    "client = MongoClient('mongodb://localhost:27017/')"
   ]
  },
  {
   "cell_type": "code",
   "execution_count": 19,
   "metadata": {},
   "outputs": [],
   "source": [
    "#This will create a Collection/Database called department if it doesn't already exist\n",
    "\n",
    "coll_department = client['department']\n",
    "\n",
    "department = coll_department.department"
   ]
  },
  {
   "cell_type": "code",
   "execution_count": 20,
   "metadata": {},
   "outputs": [
    {
     "data": {
      "text/plain": [
       "<pymongo.results.InsertManyResult at 0x182668cb400>"
      ]
     },
     "execution_count": 20,
     "metadata": {},
     "output_type": "execute_result"
    }
   ],
   "source": [
    "department.insert_many([{\"dep_name\": \"IT\", \"DepartmentHead\":\"Jason\"},\n",
    "                            {\"dep_name\": \"Admin\", \"DepartmentHead\":\"Nial\"},\n",
    "                            {\"dep_name\": \"Accounts\", \"DepartmentHead\":\"Harris\"}])\n"
   ]
  },
  {
   "cell_type": "code",
   "execution_count": 21,
   "metadata": {},
   "outputs": [],
   "source": [
    "#This will create a Collection/Database called employees if it doesn't already exist\n",
    "\n",
    "import pandas as pd\n",
    "\n",
    "db = client['employees']\n",
    "\n",
    "df_employees = pd.DataFrame(list(db.employees.find()))\n"
   ]
  },
  {
   "cell_type": "code",
   "execution_count": 22,
   "metadata": {},
   "outputs": [
    {
     "data": {
      "text/html": [
       "<div>\n",
       "<style scoped>\n",
       "    .dataframe tbody tr th:only-of-type {\n",
       "        vertical-align: middle;\n",
       "    }\n",
       "\n",
       "    .dataframe tbody tr th {\n",
       "        vertical-align: top;\n",
       "    }\n",
       "\n",
       "    .dataframe thead th {\n",
       "        text-align: right;\n",
       "    }\n",
       "</style>\n",
       "<table border=\"1\" class=\"dataframe\">\n",
       "  <thead>\n",
       "    <tr style=\"text-align: right;\">\n",
       "      <th></th>\n",
       "      <th>_id</th>\n",
       "      <th>name</th>\n",
       "      <th>Department</th>\n",
       "      <th>Salary</th>\n",
       "    </tr>\n",
       "  </thead>\n",
       "  <tbody>\n",
       "    <tr>\n",
       "      <th>0</th>\n",
       "      <td>5f5852e11bb7b32b0ab9e873</td>\n",
       "      <td>Jessica</td>\n",
       "      <td>IT</td>\n",
       "      <td>6000</td>\n",
       "    </tr>\n",
       "    <tr>\n",
       "      <th>1</th>\n",
       "      <td>5f5852e11bb7b32b0ab9e874</td>\n",
       "      <td>Joseph</td>\n",
       "      <td>IT</td>\n",
       "      <td>7000</td>\n",
       "    </tr>\n",
       "    <tr>\n",
       "      <th>2</th>\n",
       "      <td>5f5852e11bb7b32b0ab9e875</td>\n",
       "      <td>Alex</td>\n",
       "      <td>Accounts</td>\n",
       "      <td>5000</td>\n",
       "    </tr>\n",
       "    <tr>\n",
       "      <th>3</th>\n",
       "      <td>5f5852e11bb7b32b0ab9e876</td>\n",
       "      <td>Julie</td>\n",
       "      <td>IT</td>\n",
       "      <td>3000</td>\n",
       "    </tr>\n",
       "    <tr>\n",
       "      <th>4</th>\n",
       "      <td>5f5852e11bb7b32b0ab9e877</td>\n",
       "      <td>James</td>\n",
       "      <td>Admin</td>\n",
       "      <td>8000</td>\n",
       "    </tr>\n",
       "  </tbody>\n",
       "</table>\n",
       "</div>"
      ],
      "text/plain": [
       "                        _id     name Department  Salary\n",
       "0  5f5852e11bb7b32b0ab9e873  Jessica         IT    6000\n",
       "1  5f5852e11bb7b32b0ab9e874   Joseph         IT    7000\n",
       "2  5f5852e11bb7b32b0ab9e875     Alex   Accounts    5000\n",
       "3  5f5852e11bb7b32b0ab9e876    Julie         IT    3000\n",
       "4  5f5852e11bb7b32b0ab9e877    James      Admin    8000"
      ]
     },
     "execution_count": 22,
     "metadata": {},
     "output_type": "execute_result"
    }
   ],
   "source": [
    "df_employees.head()"
   ]
  },
  {
   "cell_type": "code",
   "execution_count": 24,
   "metadata": {},
   "outputs": [],
   "source": [
    "df_department = pd.DataFrame(list(department.find()))"
   ]
  },
  {
   "cell_type": "code",
   "execution_count": 25,
   "metadata": {},
   "outputs": [
    {
     "data": {
      "text/html": [
       "<div>\n",
       "<style scoped>\n",
       "    .dataframe tbody tr th:only-of-type {\n",
       "        vertical-align: middle;\n",
       "    }\n",
       "\n",
       "    .dataframe tbody tr th {\n",
       "        vertical-align: top;\n",
       "    }\n",
       "\n",
       "    .dataframe thead th {\n",
       "        text-align: right;\n",
       "    }\n",
       "</style>\n",
       "<table border=\"1\" class=\"dataframe\">\n",
       "  <thead>\n",
       "    <tr style=\"text-align: right;\">\n",
       "      <th></th>\n",
       "      <th>_id</th>\n",
       "      <th>dep_name</th>\n",
       "      <th>DepartmentHead</th>\n",
       "    </tr>\n",
       "  </thead>\n",
       "  <tbody>\n",
       "    <tr>\n",
       "      <th>0</th>\n",
       "      <td>5f5a857ba249d17d3fb19c7b</td>\n",
       "      <td>IT</td>\n",
       "      <td>Jason</td>\n",
       "    </tr>\n",
       "    <tr>\n",
       "      <th>1</th>\n",
       "      <td>5f5a857ba249d17d3fb19c7c</td>\n",
       "      <td>Admin</td>\n",
       "      <td>Nial</td>\n",
       "    </tr>\n",
       "    <tr>\n",
       "      <th>2</th>\n",
       "      <td>5f5a857ba249d17d3fb19c7d</td>\n",
       "      <td>Accounts</td>\n",
       "      <td>Harris</td>\n",
       "    </tr>\n",
       "    <tr>\n",
       "      <th>3</th>\n",
       "      <td>5f5a8a8a686b40444782a309</td>\n",
       "      <td>IT</td>\n",
       "      <td>Jason</td>\n",
       "    </tr>\n",
       "    <tr>\n",
       "      <th>4</th>\n",
       "      <td>5f5a8a8a686b40444782a30a</td>\n",
       "      <td>Admin</td>\n",
       "      <td>Nial</td>\n",
       "    </tr>\n",
       "  </tbody>\n",
       "</table>\n",
       "</div>"
      ],
      "text/plain": [
       "                        _id  dep_name DepartmentHead\n",
       "0  5f5a857ba249d17d3fb19c7b        IT          Jason\n",
       "1  5f5a857ba249d17d3fb19c7c     Admin           Nial\n",
       "2  5f5a857ba249d17d3fb19c7d  Accounts         Harris\n",
       "3  5f5a8a8a686b40444782a309        IT          Jason\n",
       "4  5f5a8a8a686b40444782a30a     Admin           Nial"
      ]
     },
     "execution_count": 25,
     "metadata": {},
     "output_type": "execute_result"
    }
   ],
   "source": [
    "df_department.head()\n"
   ]
  },
  {
   "cell_type": "markdown",
   "metadata": {},
   "source": [
    "### Left Join: \n",
    "\n",
    "Left join uses only keys from left frame, similar to a SQL left outer join"
   ]
  },
  {
   "cell_type": "code",
   "execution_count": 26,
   "metadata": {},
   "outputs": [
    {
     "data": {
      "text/html": [
       "<div>\n",
       "<style scoped>\n",
       "    .dataframe tbody tr th:only-of-type {\n",
       "        vertical-align: middle;\n",
       "    }\n",
       "\n",
       "    .dataframe tbody tr th {\n",
       "        vertical-align: top;\n",
       "    }\n",
       "\n",
       "    .dataframe thead th {\n",
       "        text-align: right;\n",
       "    }\n",
       "</style>\n",
       "<table border=\"1\" class=\"dataframe\">\n",
       "  <thead>\n",
       "    <tr style=\"text-align: right;\">\n",
       "      <th></th>\n",
       "      <th>_id_x</th>\n",
       "      <th>name</th>\n",
       "      <th>Department</th>\n",
       "      <th>Salary</th>\n",
       "      <th>_id_y</th>\n",
       "      <th>dep_name</th>\n",
       "      <th>DepartmentHead</th>\n",
       "    </tr>\n",
       "  </thead>\n",
       "  <tbody>\n",
       "    <tr>\n",
       "      <th>0</th>\n",
       "      <td>5f5852e11bb7b32b0ab9e873</td>\n",
       "      <td>Jessica</td>\n",
       "      <td>IT</td>\n",
       "      <td>6000</td>\n",
       "      <td>5f5a857ba249d17d3fb19c7b</td>\n",
       "      <td>IT</td>\n",
       "      <td>Jason</td>\n",
       "    </tr>\n",
       "    <tr>\n",
       "      <th>1</th>\n",
       "      <td>5f5852e11bb7b32b0ab9e873</td>\n",
       "      <td>Jessica</td>\n",
       "      <td>IT</td>\n",
       "      <td>6000</td>\n",
       "      <td>5f5a8a8a686b40444782a309</td>\n",
       "      <td>IT</td>\n",
       "      <td>Jason</td>\n",
       "    </tr>\n",
       "    <tr>\n",
       "      <th>2</th>\n",
       "      <td>5f5852e11bb7b32b0ab9e873</td>\n",
       "      <td>Jessica</td>\n",
       "      <td>IT</td>\n",
       "      <td>6000</td>\n",
       "      <td>5f5bcc504d4462a3761e61f9</td>\n",
       "      <td>IT</td>\n",
       "      <td>Jason</td>\n",
       "    </tr>\n",
       "    <tr>\n",
       "      <th>3</th>\n",
       "      <td>5f5852e11bb7b32b0ab9e873</td>\n",
       "      <td>Jessica</td>\n",
       "      <td>IT</td>\n",
       "      <td>6000</td>\n",
       "      <td>5f5fa38c561313207d47ab3d</td>\n",
       "      <td>IT</td>\n",
       "      <td>Jason</td>\n",
       "    </tr>\n",
       "    <tr>\n",
       "      <th>4</th>\n",
       "      <td>5f5852e11bb7b32b0ab9e873</td>\n",
       "      <td>Jessica</td>\n",
       "      <td>IT</td>\n",
       "      <td>6000</td>\n",
       "      <td>5f5fa393561313207d47ab41</td>\n",
       "      <td>IT</td>\n",
       "      <td>Jason</td>\n",
       "    </tr>\n",
       "    <tr>\n",
       "      <th>...</th>\n",
       "      <td>...</td>\n",
       "      <td>...</td>\n",
       "      <td>...</td>\n",
       "      <td>...</td>\n",
       "      <td>...</td>\n",
       "      <td>...</td>\n",
       "      <td>...</td>\n",
       "    </tr>\n",
       "    <tr>\n",
       "      <th>100</th>\n",
       "      <td>5f5a5d28880c9e07e8eb8239</td>\n",
       "      <td>Kevin</td>\n",
       "      <td>IT</td>\n",
       "      <td>6500</td>\n",
       "      <td>5f5a857ba249d17d3fb19c7b</td>\n",
       "      <td>IT</td>\n",
       "      <td>Jason</td>\n",
       "    </tr>\n",
       "    <tr>\n",
       "      <th>101</th>\n",
       "      <td>5f5a5d28880c9e07e8eb8239</td>\n",
       "      <td>Kevin</td>\n",
       "      <td>IT</td>\n",
       "      <td>6500</td>\n",
       "      <td>5f5a8a8a686b40444782a309</td>\n",
       "      <td>IT</td>\n",
       "      <td>Jason</td>\n",
       "    </tr>\n",
       "    <tr>\n",
       "      <th>102</th>\n",
       "      <td>5f5a5d28880c9e07e8eb8239</td>\n",
       "      <td>Kevin</td>\n",
       "      <td>IT</td>\n",
       "      <td>6500</td>\n",
       "      <td>5f5bcc504d4462a3761e61f9</td>\n",
       "      <td>IT</td>\n",
       "      <td>Jason</td>\n",
       "    </tr>\n",
       "    <tr>\n",
       "      <th>103</th>\n",
       "      <td>5f5a5d28880c9e07e8eb8239</td>\n",
       "      <td>Kevin</td>\n",
       "      <td>IT</td>\n",
       "      <td>6500</td>\n",
       "      <td>5f5fa38c561313207d47ab3d</td>\n",
       "      <td>IT</td>\n",
       "      <td>Jason</td>\n",
       "    </tr>\n",
       "    <tr>\n",
       "      <th>104</th>\n",
       "      <td>5f5a5d28880c9e07e8eb8239</td>\n",
       "      <td>Kevin</td>\n",
       "      <td>IT</td>\n",
       "      <td>6500</td>\n",
       "      <td>5f5fa393561313207d47ab41</td>\n",
       "      <td>IT</td>\n",
       "      <td>Jason</td>\n",
       "    </tr>\n",
       "  </tbody>\n",
       "</table>\n",
       "<p>105 rows × 7 columns</p>\n",
       "</div>"
      ],
      "text/plain": [
       "                        _id_x     name Department  Salary  \\\n",
       "0    5f5852e11bb7b32b0ab9e873  Jessica         IT    6000   \n",
       "1    5f5852e11bb7b32b0ab9e873  Jessica         IT    6000   \n",
       "2    5f5852e11bb7b32b0ab9e873  Jessica         IT    6000   \n",
       "3    5f5852e11bb7b32b0ab9e873  Jessica         IT    6000   \n",
       "4    5f5852e11bb7b32b0ab9e873  Jessica         IT    6000   \n",
       "..                        ...      ...        ...     ...   \n",
       "100  5f5a5d28880c9e07e8eb8239    Kevin         IT    6500   \n",
       "101  5f5a5d28880c9e07e8eb8239    Kevin         IT    6500   \n",
       "102  5f5a5d28880c9e07e8eb8239    Kevin         IT    6500   \n",
       "103  5f5a5d28880c9e07e8eb8239    Kevin         IT    6500   \n",
       "104  5f5a5d28880c9e07e8eb8239    Kevin         IT    6500   \n",
       "\n",
       "                        _id_y dep_name DepartmentHead  \n",
       "0    5f5a857ba249d17d3fb19c7b       IT          Jason  \n",
       "1    5f5a8a8a686b40444782a309       IT          Jason  \n",
       "2    5f5bcc504d4462a3761e61f9       IT          Jason  \n",
       "3    5f5fa38c561313207d47ab3d       IT          Jason  \n",
       "4    5f5fa393561313207d47ab41       IT          Jason  \n",
       "..                        ...      ...            ...  \n",
       "100  5f5a857ba249d17d3fb19c7b       IT          Jason  \n",
       "101  5f5a8a8a686b40444782a309       IT          Jason  \n",
       "102  5f5bcc504d4462a3761e61f9       IT          Jason  \n",
       "103  5f5fa38c561313207d47ab3d       IT          Jason  \n",
       "104  5f5fa393561313207d47ab41       IT          Jason  \n",
       "\n",
       "[105 rows x 7 columns]"
      ]
     },
     "execution_count": 26,
     "metadata": {},
     "output_type": "execute_result"
    }
   ],
   "source": [
    "df_employees.merge(df_department,left_on=\"Department\",right_on=\"dep_name\",how=\"left\")"
   ]
  },
  {
   "cell_type": "markdown",
   "metadata": {},
   "source": [
    "### Inner Join: \n",
    "\n",
    "Use intersection of keys from both frames, similar to a SQL inner join; preserve the order of the left keys."
   ]
  },
  {
   "cell_type": "code",
   "execution_count": 27,
   "metadata": {},
   "outputs": [
    {
     "data": {
      "text/html": [
       "<div>\n",
       "<style scoped>\n",
       "    .dataframe tbody tr th:only-of-type {\n",
       "        vertical-align: middle;\n",
       "    }\n",
       "\n",
       "    .dataframe tbody tr th {\n",
       "        vertical-align: top;\n",
       "    }\n",
       "\n",
       "    .dataframe thead th {\n",
       "        text-align: right;\n",
       "    }\n",
       "</style>\n",
       "<table border=\"1\" class=\"dataframe\">\n",
       "  <thead>\n",
       "    <tr style=\"text-align: right;\">\n",
       "      <th></th>\n",
       "      <th>_id_x</th>\n",
       "      <th>name</th>\n",
       "      <th>Department</th>\n",
       "      <th>Salary</th>\n",
       "      <th>_id_y</th>\n",
       "      <th>dep_name</th>\n",
       "      <th>DepartmentHead</th>\n",
       "    </tr>\n",
       "  </thead>\n",
       "  <tbody>\n",
       "    <tr>\n",
       "      <th>0</th>\n",
       "      <td>5f5852e11bb7b32b0ab9e873</td>\n",
       "      <td>Jessica</td>\n",
       "      <td>IT</td>\n",
       "      <td>6000</td>\n",
       "      <td>5f5a857ba249d17d3fb19c7b</td>\n",
       "      <td>IT</td>\n",
       "      <td>Jason</td>\n",
       "    </tr>\n",
       "    <tr>\n",
       "      <th>1</th>\n",
       "      <td>5f5852e11bb7b32b0ab9e873</td>\n",
       "      <td>Jessica</td>\n",
       "      <td>IT</td>\n",
       "      <td>6000</td>\n",
       "      <td>5f5a8a8a686b40444782a309</td>\n",
       "      <td>IT</td>\n",
       "      <td>Jason</td>\n",
       "    </tr>\n",
       "    <tr>\n",
       "      <th>2</th>\n",
       "      <td>5f5852e11bb7b32b0ab9e873</td>\n",
       "      <td>Jessica</td>\n",
       "      <td>IT</td>\n",
       "      <td>6000</td>\n",
       "      <td>5f5bcc504d4462a3761e61f9</td>\n",
       "      <td>IT</td>\n",
       "      <td>Jason</td>\n",
       "    </tr>\n",
       "    <tr>\n",
       "      <th>3</th>\n",
       "      <td>5f5852e11bb7b32b0ab9e873</td>\n",
       "      <td>Jessica</td>\n",
       "      <td>IT</td>\n",
       "      <td>6000</td>\n",
       "      <td>5f5fa38c561313207d47ab3d</td>\n",
       "      <td>IT</td>\n",
       "      <td>Jason</td>\n",
       "    </tr>\n",
       "    <tr>\n",
       "      <th>4</th>\n",
       "      <td>5f5852e11bb7b32b0ab9e873</td>\n",
       "      <td>Jessica</td>\n",
       "      <td>IT</td>\n",
       "      <td>6000</td>\n",
       "      <td>5f5fa393561313207d47ab41</td>\n",
       "      <td>IT</td>\n",
       "      <td>Jason</td>\n",
       "    </tr>\n",
       "    <tr>\n",
       "      <th>...</th>\n",
       "      <td>...</td>\n",
       "      <td>...</td>\n",
       "      <td>...</td>\n",
       "      <td>...</td>\n",
       "      <td>...</td>\n",
       "      <td>...</td>\n",
       "      <td>...</td>\n",
       "    </tr>\n",
       "    <tr>\n",
       "      <th>100</th>\n",
       "      <td>5f5a5d28880c9e07e8eb8238</td>\n",
       "      <td>Jacob</td>\n",
       "      <td>Admin</td>\n",
       "      <td>9000</td>\n",
       "      <td>5f5a857ba249d17d3fb19c7c</td>\n",
       "      <td>Admin</td>\n",
       "      <td>Nial</td>\n",
       "    </tr>\n",
       "    <tr>\n",
       "      <th>101</th>\n",
       "      <td>5f5a5d28880c9e07e8eb8238</td>\n",
       "      <td>Jacob</td>\n",
       "      <td>Admin</td>\n",
       "      <td>9000</td>\n",
       "      <td>5f5a8a8a686b40444782a30a</td>\n",
       "      <td>Admin</td>\n",
       "      <td>Nial</td>\n",
       "    </tr>\n",
       "    <tr>\n",
       "      <th>102</th>\n",
       "      <td>5f5a5d28880c9e07e8eb8238</td>\n",
       "      <td>Jacob</td>\n",
       "      <td>Admin</td>\n",
       "      <td>9000</td>\n",
       "      <td>5f5bcc504d4462a3761e61fa</td>\n",
       "      <td>Admin</td>\n",
       "      <td>Nial</td>\n",
       "    </tr>\n",
       "    <tr>\n",
       "      <th>103</th>\n",
       "      <td>5f5a5d28880c9e07e8eb8238</td>\n",
       "      <td>Jacob</td>\n",
       "      <td>Admin</td>\n",
       "      <td>9000</td>\n",
       "      <td>5f5fa38c561313207d47ab3e</td>\n",
       "      <td>Admin</td>\n",
       "      <td>Nial</td>\n",
       "    </tr>\n",
       "    <tr>\n",
       "      <th>104</th>\n",
       "      <td>5f5a5d28880c9e07e8eb8238</td>\n",
       "      <td>Jacob</td>\n",
       "      <td>Admin</td>\n",
       "      <td>9000</td>\n",
       "      <td>5f5fa393561313207d47ab42</td>\n",
       "      <td>Admin</td>\n",
       "      <td>Nial</td>\n",
       "    </tr>\n",
       "  </tbody>\n",
       "</table>\n",
       "<p>105 rows × 7 columns</p>\n",
       "</div>"
      ],
      "text/plain": [
       "                        _id_x     name Department  Salary  \\\n",
       "0    5f5852e11bb7b32b0ab9e873  Jessica         IT    6000   \n",
       "1    5f5852e11bb7b32b0ab9e873  Jessica         IT    6000   \n",
       "2    5f5852e11bb7b32b0ab9e873  Jessica         IT    6000   \n",
       "3    5f5852e11bb7b32b0ab9e873  Jessica         IT    6000   \n",
       "4    5f5852e11bb7b32b0ab9e873  Jessica         IT    6000   \n",
       "..                        ...      ...        ...     ...   \n",
       "100  5f5a5d28880c9e07e8eb8238    Jacob      Admin    9000   \n",
       "101  5f5a5d28880c9e07e8eb8238    Jacob      Admin    9000   \n",
       "102  5f5a5d28880c9e07e8eb8238    Jacob      Admin    9000   \n",
       "103  5f5a5d28880c9e07e8eb8238    Jacob      Admin    9000   \n",
       "104  5f5a5d28880c9e07e8eb8238    Jacob      Admin    9000   \n",
       "\n",
       "                        _id_y dep_name DepartmentHead  \n",
       "0    5f5a857ba249d17d3fb19c7b       IT          Jason  \n",
       "1    5f5a8a8a686b40444782a309       IT          Jason  \n",
       "2    5f5bcc504d4462a3761e61f9       IT          Jason  \n",
       "3    5f5fa38c561313207d47ab3d       IT          Jason  \n",
       "4    5f5fa393561313207d47ab41       IT          Jason  \n",
       "..                        ...      ...            ...  \n",
       "100  5f5a857ba249d17d3fb19c7c    Admin           Nial  \n",
       "101  5f5a8a8a686b40444782a30a    Admin           Nial  \n",
       "102  5f5bcc504d4462a3761e61fa    Admin           Nial  \n",
       "103  5f5fa38c561313207d47ab3e    Admin           Nial  \n",
       "104  5f5fa393561313207d47ab42    Admin           Nial  \n",
       "\n",
       "[105 rows x 7 columns]"
      ]
     },
     "execution_count": 27,
     "metadata": {},
     "output_type": "execute_result"
    }
   ],
   "source": [
    "df_employees.merge(df_department,left_on=\"Department\",right_on=\"dep_name\",how=\"inner\")"
   ]
  },
  {
   "cell_type": "markdown",
   "metadata": {},
   "source": [
    "### To get the total number of records in the collection"
   ]
  },
  {
   "cell_type": "code",
   "execution_count": 28,
   "metadata": {},
   "outputs": [],
   "source": [
    "pipeline = [\n",
    "     {\"$group\": {\"_id\": None,\"Count\": {\"$sum\": 1}}}]\n",
    "grp_employees = db.employees.aggregate(pipeline)\n"
   ]
  },
  {
   "cell_type": "code",
   "execution_count": 29,
   "metadata": {},
   "outputs": [
    {
     "name": "stdout",
     "output_type": "stream",
     "text": [
      "{'_id': None, 'Count': 21}\n"
     ]
    }
   ],
   "source": [
    "for employee in grp_employees:\n",
    "  print(employee)"
   ]
  },
  {
   "cell_type": "markdown",
   "metadata": {},
   "source": [
    "### To group by department and get the total salary for each department"
   ]
  },
  {
   "cell_type": "code",
   "execution_count": 30,
   "metadata": {},
   "outputs": [],
   "source": [
    "pipeline = [\n",
    "     {\"$group\": {\"_id\": \"$Department\",\"Salary\": {\"$sum\": \"$Salary\"}}}]\n",
    "grp_employees = db.employees.aggregate(pipeline)\n"
   ]
  },
  {
   "cell_type": "code",
   "execution_count": 31,
   "metadata": {},
   "outputs": [
    {
     "name": "stdout",
     "output_type": "stream",
     "text": [
      "{'_id': 'IT', 'Salary': 67500}\n",
      "{'_id': 'Accounts', 'Salary': 15000}\n",
      "{'_id': 'Admin', 'Salary': 51000}\n"
     ]
    }
   ],
   "source": [
    "for employee in grp_employees:\n",
    "  print(employee)"
   ]
  },
  {
   "cell_type": "markdown",
   "metadata": {},
   "source": [
    "### To group by department and get the average salary for each department"
   ]
  },
  {
   "cell_type": "code",
   "execution_count": 32,
   "metadata": {},
   "outputs": [],
   "source": [
    "pipeline = [\n",
    "     {\"$group\": {\"_id\": \"$Department\",\"Salary\": {\"$avg\": \"$Salary\"}}}]\n",
    "grp_employees = db.employees.aggregate(pipeline)\n"
   ]
  },
  {
   "cell_type": "code",
   "execution_count": 35,
   "metadata": {},
   "outputs": [],
   "source": [
    "for employee in grp_employees:\n",
    "  print(employee['_id'],\"\\t Average Salary \",employee['Salary'])"
   ]
  },
  {
   "cell_type": "markdown",
   "metadata": {},
   "source": [
    "### To get the employees with the lowest salary"
   ]
  },
  {
   "cell_type": "code",
   "execution_count": 36,
   "metadata": {},
   "outputs": [],
   "source": [
    "pipeline = [\n",
    "     {\"$group\": {\"_id\": None ,\"Minimum Salary\": {\"$min\": \"$Salary\"}}}]\n",
    "grp_employees = db.employees.aggregate(pipeline)\n"
   ]
  },
  {
   "cell_type": "code",
   "execution_count": 37,
   "metadata": {},
   "outputs": [
    {
     "name": "stdout",
     "output_type": "stream",
     "text": [
      "Name  Julie \n",
      "Salary  3000\n",
      "Name  Julie \n",
      "Salary  3000\n",
      "Name  Julie \n",
      "Salary  3000\n"
     ]
    }
   ],
   "source": [
    "# for employee in grp_employees:\n",
    "#     for spec_emp in employee.find({\"Salary\":employee['Minimum Salary']}):\n",
    "#         print(\"Name \",spec_emp['name'],\"\\nSalary \",spec_emp['Salary'])\n",
    "\n",
    "\n",
    "for employee in grp_employees:\n",
    "    for spec_emp in db.employees.find({\"Salary\":employee['Minimum Salary']}):\n",
    "        print(\"Name \",spec_emp['name'],\"\\nSalary \",spec_emp['Salary'])\n"
   ]
  }
 ],
 "metadata": {
  "kernelspec": {
   "display_name": "Python 3",
   "language": "python",
   "name": "python3"
  },
  "language_info": {
   "codemirror_mode": {
    "name": "ipython",
    "version": 3
   },
   "file_extension": ".py",
   "mimetype": "text/x-python",
   "name": "python",
   "nbconvert_exporter": "python",
   "pygments_lexer": "ipython3",
   "version": "3.8.3"
  }
 },
 "nbformat": 4,
 "nbformat_minor": 4
}
