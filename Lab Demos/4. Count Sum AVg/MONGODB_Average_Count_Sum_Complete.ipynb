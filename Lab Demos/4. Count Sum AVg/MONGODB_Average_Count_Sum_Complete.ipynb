{
 "cells": [
  {
   "cell_type": "code",
   "execution_count": 1,
   "metadata": {},
   "outputs": [],
   "source": [
    "import pymongo\n",
    "from pymongo import MongoClient\n",
    "client = MongoClient('mongodb://localhost:27017/')"
   ]
  },
  {
   "cell_type": "code",
   "execution_count": 2,
   "metadata": {},
   "outputs": [],
   "source": [
    "#This will create a Collection/Database called books if it doesn't already exist\n",
    "db = client['employees']"
   ]
  },
  {
   "cell_type": "code",
   "execution_count": 3,
   "metadata": {},
   "outputs": [],
   "source": [
    "employees = db.employees"
   ]
  },
  {
   "cell_type": "code",
   "execution_count": 4,
   "metadata": {},
   "outputs": [
    {
     "data": {
      "text/plain": [
       "<pymongo.results.InsertManyResult at 0x17c9434cdc0>"
      ]
     },
     "execution_count": 4,
     "metadata": {},
     "output_type": "execute_result"
    }
   ],
   "source": [
    "db.employees.insert_many([{\"name\": \"Jessica\", \"Department\":\"IT\",\"Salary\": 6000},\n",
    "                                 {\"name\": \"Joseph\", \"Department\":\"IT\",\"Salary\": 7000},\n",
    "                                 {\"name\": \"Alex\", \"Department\":\"Accounts\",\"Salary\": 5000},\n",
    "                                 {\"name\": \"Julie\", \"Department\":\"IT\",\"Salary\": 3000},\n",
    "                                 {\"name\": \"James\", \"Department\":\"Admin\",\"Salary\": 8000},\n",
    "                                 {\"name\": \"Jacob\", \"Department\":\"Admin\",\"Salary\": 9000},\n",
    "                                 {\"name\": \"Kevin\", \"Department\":\"IT\",\"Salary\": 6500}\n",
    "                              ])\n"
   ]
  },
  {
   "cell_type": "code",
   "execution_count": 14,
   "metadata": {},
   "outputs": [
    {
     "name": "stdout",
     "output_type": "stream",
     "text": [
      "{'_id': ObjectId('5f5852e11bb7b32b0ab9e873'), 'name': 'Jessica', 'Department': 'IT', 'Salary': 6000}\n",
      "{'_id': ObjectId('5f5852e11bb7b32b0ab9e874'), 'name': 'Joseph', 'Department': 'IT', 'Salary': 7000}\n",
      "{'_id': ObjectId('5f5852e11bb7b32b0ab9e875'), 'name': 'Alex', 'Department': 'Accounts', 'Salary': 5000}\n",
      "{'_id': ObjectId('5f5852e11bb7b32b0ab9e876'), 'name': 'Julie', 'Department': 'IT', 'Salary': 3000}\n",
      "{'_id': ObjectId('5f5852e11bb7b32b0ab9e877'), 'name': 'James', 'Department': 'Admin', 'Salary': 8000}\n",
      "{'_id': ObjectId('5f5852e11bb7b32b0ab9e878'), 'name': 'Jacob', 'Department': 'Admin', 'Salary': 9000}\n",
      "{'_id': ObjectId('5f5852e11bb7b32b0ab9e879'), 'name': 'Kevin', 'Department': 'IT', 'Salary': 6500}\n",
      "{'_id': ObjectId('5f5a5cce93b5dc3a1e78c687'), 'name': 'Jessica', 'Department': 'IT', 'Salary': 6000}\n",
      "{'_id': ObjectId('5f5a5cce93b5dc3a1e78c688'), 'name': 'Joseph', 'Department': 'IT', 'Salary': 7000}\n",
      "{'_id': ObjectId('5f5a5cce93b5dc3a1e78c689'), 'name': 'Alex', 'Department': 'Accounts', 'Salary': 5000}\n",
      "{'_id': ObjectId('5f5a5cce93b5dc3a1e78c68a'), 'name': 'Julie', 'Department': 'IT', 'Salary': 3000}\n",
      "{'_id': ObjectId('5f5a5cce93b5dc3a1e78c68b'), 'name': 'James', 'Department': 'Admin', 'Salary': 8000}\n",
      "{'_id': ObjectId('5f5a5cce93b5dc3a1e78c68c'), 'name': 'Jacob', 'Department': 'Admin', 'Salary': 9000}\n",
      "{'_id': ObjectId('5f5a5cce93b5dc3a1e78c68d'), 'name': 'Kevin', 'Department': 'IT', 'Salary': 6500}\n",
      "{'_id': ObjectId('5f5a5d28880c9e07e8eb8233'), 'name': 'Jessica', 'Department': 'IT', 'Salary': 6000}\n",
      "{'_id': ObjectId('5f5a5d28880c9e07e8eb8234'), 'name': 'Joseph', 'Department': 'IT', 'Salary': 7000}\n",
      "{'_id': ObjectId('5f5a5d28880c9e07e8eb8235'), 'name': 'Alex', 'Department': 'Accounts', 'Salary': 5000}\n",
      "{'_id': ObjectId('5f5a5d28880c9e07e8eb8236'), 'name': 'Julie', 'Department': 'IT', 'Salary': 3000}\n",
      "{'_id': ObjectId('5f5a5d28880c9e07e8eb8237'), 'name': 'James', 'Department': 'Admin', 'Salary': 8000}\n",
      "{'_id': ObjectId('5f5a5d28880c9e07e8eb8238'), 'name': 'Jacob', 'Department': 'Admin', 'Salary': 9000}\n",
      "{'_id': ObjectId('5f5a5d28880c9e07e8eb8239'), 'name': 'Kevin', 'Department': 'IT', 'Salary': 6500}\n"
     ]
    }
   ],
   "source": [
    "for employee in employees.find():\n",
    "  print(employee)"
   ]
  },
  {
   "cell_type": "markdown",
   "metadata": {},
   "source": [
    "### To get the total number of records in the collection"
   ]
  },
  {
   "cell_type": "code",
   "execution_count": 6,
   "metadata": {},
   "outputs": [],
   "source": [
    "pipeline = [\n",
    "     {\"$group\": {\"_id\": None,\"Count\": {\"$sum\": 1}}}]\n",
    "grp_employees = db.employees.aggregate(pipeline)\n"
   ]
  },
  {
   "cell_type": "code",
   "execution_count": 7,
   "metadata": {},
   "outputs": [
    {
     "name": "stdout",
     "output_type": "stream",
     "text": [
      "{'_id': None, 'Count': 21}\n"
     ]
    }
   ],
   "source": [
    "for employee in grp_employees:\n",
    "  print(employee)"
   ]
  },
  {
   "cell_type": "markdown",
   "metadata": {},
   "source": [
    "### To group by department and get the total salary for each department"
   ]
  },
  {
   "cell_type": "code",
   "execution_count": 8,
   "metadata": {},
   "outputs": [],
   "source": [
    "pipeline = [\n",
    "     {\"$group\": {\"_id\": \"$Department\",\"Salary\": {\"$sum\": \"$Salary\"}}}]\n",
    "grp_employees = db.employees.aggregate(pipeline)\n"
   ]
  },
  {
   "cell_type": "code",
   "execution_count": 9,
   "metadata": {},
   "outputs": [
    {
     "name": "stdout",
     "output_type": "stream",
     "text": [
      "{'_id': 'Admin', 'Salary': 51000}\n",
      "{'_id': 'IT', 'Salary': 67500}\n",
      "{'_id': 'Accounts', 'Salary': 15000}\n"
     ]
    }
   ],
   "source": [
    "for employee in grp_employees:\n",
    "  print(employee)"
   ]
  },
  {
   "cell_type": "markdown",
   "metadata": {},
   "source": [
    "### To group by department and get the average salary for each department"
   ]
  },
  {
   "cell_type": "code",
   "execution_count": 10,
   "metadata": {},
   "outputs": [],
   "source": [
    "pipeline = [\n",
    "     {\"$group\": {\"_id\": \"$Department\",\"Salary\": {\"$avg\": \"$Salary\"}}}]\n",
    "grp_employees = db.employees.aggregate(pipeline)\n"
   ]
  },
  {
   "cell_type": "code",
   "execution_count": 11,
   "metadata": {},
   "outputs": [
    {
     "name": "stdout",
     "output_type": "stream",
     "text": [
      "Admin \t Average Salary  8500.0\n",
      "IT \t Average Salary  5625.0\n",
      "Accounts \t Average Salary  5000.0\n"
     ]
    }
   ],
   "source": [
    "for employee in grp_employees:\n",
    "  print(employee['_id'],\"\\t Average Salary \",employee['Salary'])"
   ]
  },
  {
   "cell_type": "markdown",
   "metadata": {},
   "source": [
    "### To get the employees with the lowest salary"
   ]
  },
  {
   "cell_type": "code",
   "execution_count": 12,
   "metadata": {},
   "outputs": [],
   "source": [
    "pipeline = [\n",
    "     {\"$group\": {\"_id\": None ,\"Minimum Salary\": {\"$min\": \"$Salary\"}}}]\n",
    "grp_employees = db.employees.aggregate(pipeline)\n"
   ]
  },
  {
   "cell_type": "code",
   "execution_count": 13,
   "metadata": {},
   "outputs": [
    {
     "name": "stdout",
     "output_type": "stream",
     "text": [
      "Name  Julie \n",
      "Salary  3000\n",
      "Name  Julie \n",
      "Salary  3000\n",
      "Name  Julie \n",
      "Salary  3000\n"
     ]
    }
   ],
   "source": [
    "for employee in grp_employees:\n",
    "    for spec_emp in employees.find({\"Salary\":employee['Minimum Salary']}):\n",
    "        print(\"Name \",spec_emp['name'],\"\\nSalary \",spec_emp['Salary'])\n"
   ]
  },
  {
   "cell_type": "code",
   "execution_count": null,
   "metadata": {},
   "outputs": [],
   "source": []
  }
 ],
 "metadata": {
  "kernelspec": {
   "display_name": "Python 3",
   "language": "python",
   "name": "python3"
  },
  "language_info": {
   "codemirror_mode": {
    "name": "ipython",
    "version": 3
   },
   "file_extension": ".py",
   "mimetype": "text/x-python",
   "name": "python",
   "nbconvert_exporter": "python",
   "pygments_lexer": "ipython3",
   "version": "3.8.3"
  }
 },
 "nbformat": 4,
 "nbformat_minor": 4
}
