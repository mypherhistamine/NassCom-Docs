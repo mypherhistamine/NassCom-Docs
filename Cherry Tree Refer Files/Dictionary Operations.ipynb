{
 "cells": [
  {
   "cell_type": "markdown",
   "id": "f6d95caa",
   "metadata": {},
   "source": [
    "## Dictionary Operations "
   ]
  },
  {
   "cell_type": "code",
   "execution_count": 5,
   "id": "8904b4ab",
   "metadata": {
    "scrolled": true
   },
   "outputs": [
    {
     "name": "stdout",
     "output_type": "stream",
     "text": [
      "Data: Rishabh Mishra\n",
      "Data: 23\n",
      "Data: Male\n",
      "Data: ['competitive coding', 'gaming', 'ml']\n"
     ]
    }
   ],
   "source": [
    "contact = {\"Name\" : \"Rishabh Mishra\", \"age\" : 23, \"gender\" : \"Male\" , \"hobbies\" :[\"competitive coding\",\"gaming\",\"ml\"]}\n",
    "\n",
    "#Using the keys to iterate through the items\n",
    "for key in contact.keys():\n",
    "    print(\"Data: \" + str(contact[key])) "
   ]
  },
  {
   "cell_type": "code",
   "execution_count": 6,
   "id": "19752686",
   "metadata": {},
   "outputs": [
    {
     "name": "stdout",
     "output_type": "stream",
     "text": [
      "('Name', 'Rishabh Mishra')\n",
      "('age', 23)\n",
      "('gender', 'Male')\n",
      "('hobbies', ['competitive coding', 'gaming', 'ml'])\n"
     ]
    }
   ],
   "source": [
    "# Using values of the dictionary to access \n",
    "# Notice it will return a tuple of key value pairs\n",
    "\n",
    "for dict_tuple in contact.items():\n",
    "    print(dict_tuple)\n",
    "    "
   ]
  },
  {
   "cell_type": "code",
   "execution_count": 8,
   "id": "f88254e5",
   "metadata": {},
   "outputs": [
    {
     "name": "stdout",
     "output_type": "stream",
     "text": [
      "{'Name': None, 'Gender': None, 'Age': None, 'Hobbies': None}\n"
     ]
    }
   ],
   "source": [
    "my_list = [\"Name\", \"Gender\",\"Age\",\"Hobbies\"]\n",
    "my_dict = {} #first an empty dictionary \n",
    "\n",
    "# This will create the dictionary with NULL values \n",
    "my_dict = my_dict.fromkeys(my_list)\n",
    "print(my_dict)"
   ]
  },
  {
   "cell_type": "code",
   "execution_count": 10,
   "id": "27f24cfc",
   "metadata": {},
   "outputs": [
    {
     "name": "stdout",
     "output_type": "stream",
     "text": [
      "{'Name': 69, 'Gender': 69, 'Age': 69, 'Hobbies': 69}\n"
     ]
    }
   ],
   "source": [
    "# Create a dictionary with some other value other than NULL\n",
    "#69 is a special number lol\n",
    "my_dict = my_dict.fromkeys(my_list,69)\n",
    "print(my_dict)"
   ]
  }
 ],
 "metadata": {
  "kernelspec": {
   "display_name": "Python 3",
   "language": "python",
   "name": "python3"
  },
  "language_info": {
   "codemirror_mode": {
    "name": "ipython",
    "version": 3
   },
   "file_extension": ".py",
   "mimetype": "text/x-python",
   "name": "python",
   "nbconvert_exporter": "python",
   "pygments_lexer": "ipython3",
   "version": "3.8.8"
  }
 },
 "nbformat": 4,
 "nbformat_minor": 5
}
